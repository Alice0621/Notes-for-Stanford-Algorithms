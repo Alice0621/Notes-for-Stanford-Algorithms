{
 "cells": [
  {
   "cell_type": "markdown",
   "metadata": {},
   "source": [
    "# Introduction\n",
    "\n",
    "## Karatsuba Multiplication(卡拉楚巴算法)\n",
    "\n",
    "一种快速乘法算法，使两个 $n$ 位数字相乘所需的一位数乘法次数减少到至多 $3n^{log_23}\\approx3n^{1.585}$ 次。\n",
    "\n",
    "### 基本步骤\n",
    "\n",
    "运用递归思想，将位数很多的两个大数 $x$ 和 $y$ 分成位数较少的数，每个数都是原来 $x$ 和 $y$ 位数的一半。这样处理后，简化为做三次乘法，并附带少量的加法操作和移位操作。\n",
    "\n",
    "$$\n",
    "\\begin{align}\n",
    "x \\cdot y \\, & = (10^{\\frac n2} \\cdot a + b) \\times (10^{\\frac n2} \\cdot c + d) \\\\[2ex]\n",
    "             & = 10^n \\cdot ac + 10^{\\frac n2} \\cdot (ad + bc) + bd \\tag {*} \\\\[2ex]\n",
    "\\end{align}\n",
    "$$\n",
    "\n",
    "> ${\\it {e.g.}} \\quad$ $x = 1234, \\; y = 5678$，则此时 $a = 12, \\; b = 34, \\; c = 56, \\; d = 78$\n",
    "\n",
    "`*` 号算式可以进行进一步简化：\n",
    "\n",
    "$$\n",
    "\\begin{align}\n",
    "\\because \\qquad \\; \\; (a + b) \\cdot (c + d) &= ac + ad + bc + bd \\\\[2ex]\n",
    "\\therefore \\qquad \\qquad \\qquad ad + bc &= (a + b) \\cdot (c + d)- ac - bd \\\\[2ex]\n",
    "\\end{align}\n",
    "$$\n",
    "\n",
    "所以我们只需递归计算出 $ac$、$bc$ 和 $(a + b) \\cdot (c + d)$ 的值，即可计算出 $x \\cdot y$ 的值。\n",
    "\n"
   ]
  },
  {
   "cell_type": "code",
   "execution_count": 1,
   "metadata": {},
   "outputs": [
    {
     "data": {
      "text/plain": [
       "7006652"
      ]
     },
     "execution_count": 1,
     "metadata": {},
     "output_type": "execute_result"
    }
   ],
   "source": [
    "def karatsuba(x: int, y: int):\n",
    "    if x < 10 or y < 10: return x * y # 递归边界\n",
    "\n",
    "    x_str, y_str = str(x), str(y)\n",
    "    # 处理负数\n",
    "    if x_str[0] == '-': return -karatsuba(-x, y)\n",
    "    if y_str[0] == '-': return -karatsuba(x, -y)\n",
    "    # 补0\n",
    "    max_length = max(len(x_str), len(y_str))\n",
    "    x_str = f'{x_str:0>{max_length}}'\n",
    "    y_str = f'{y_str:0>{max_length}}'\n",
    "\n",
    "    split_positon = max_length // 2\n",
    "    a = int(x_str[:-split_positon]) # x 高位\n",
    "    b = int(x_str[-split_positon:]) # x 低位\n",
    "    c = int(y_str[:-split_positon]) # y 高位\n",
    "    d = int(y_str[-split_positon:]) # y 低位\n",
    "    z0 = karatsuba(a + b, c + d) # 计算 (a+b)(c+d)\n",
    "    z1 = karatsuba(a, c) # 计算 ac\n",
    "    z2 = karatsuba(b, d) # 计算 bd\n",
    "    \n",
    "    return z1 * 10 ** (2 * split_positon) + \\\n",
    "           (z0 - z1 - z2) * 10 ** (split_positon) + \\\n",
    "           z2\n",
    "\n",
    "karatsuba(1234, 5678)"
   ]
  },
  {
   "cell_type": "markdown",
   "metadata": {},
   "source": [
    "___\n",
    "\n",
    "# Divide and Conquer(分治法)\n",
    "\n",
    "## Merge Sort(归并排序)\n",
    "\n",
    "### Motivation and Example\n",
    "\n",
    "$$\n",
    "\\def\\arraystretch{1.5}\n",
    "\\begin{array}{c} % 总表格\n",
    "    \\begin{array}{c} % 第一行一列\n",
    "        \\begin{array}{|c|c|c|c|c|c|c|c|}\n",
    "            \\hline\n",
    "            5 & 4 & 1 & 8 & 7 & 2 & 6 & 3 \\\\\n",
    "            \\hline\n",
    "        \\end{array}\n",
    "    \\end{array}\n",
    "    \\\\\n",
    "    \\begin{array}{cccc} % 第二行两列(两个箭头)\n",
    "        \\dArr & \\quad & \\quad & \\dArr\n",
    "    \\end{array}\n",
    "    \\\\\n",
    "    \\begin{array}{cc} % 第三行两列(分割出的两部分)\n",
    "        \\begin{array}{|c|c|c|c|}\n",
    "            \\hline\n",
    "            5 & 4 & 1 & 8 \\\\\n",
    "            \\hline\n",
    "        \\end{array}\n",
    "        &\n",
    "        \\begin{array}{|c|c|c|c|}\n",
    "            \\hline\n",
    "            7 & 2 & 6 & 3 \\\\\n",
    "            \\hline\n",
    "        \\end{array}\n",
    "    \\end{array}\n",
    "\\end{array}\n",
    "$$"
   ]
  }
 ],
 "metadata": {
  "interpreter": {
   "hash": "aee8b7b246df8f9039afb4144a1f6fd8d2ca17a180786b69acc140d282b71a49"
  },
  "kernelspec": {
   "display_name": "Python 3.9.9 64-bit",
   "language": "python",
   "name": "python3"
  },
  "language_info": {
   "codemirror_mode": {
    "name": "ipython",
    "version": 3
   },
   "file_extension": ".py",
   "mimetype": "text/x-python",
   "name": "python",
   "nbconvert_exporter": "python",
   "pygments_lexer": "ipython3",
   "version": "3.9.9"
  },
  "orig_nbformat": 4
 },
 "nbformat": 4,
 "nbformat_minor": 2
}
